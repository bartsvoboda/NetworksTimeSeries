{
  "nbformat": 4,
  "nbformat_minor": 0,
  "metadata": {
    "colab": {
      "name": "TimeSeriesModels.ipynb",
      "provenance": [],
      "collapsed_sections": []
    },
    "kernelspec": {
      "name": "python3",
      "display_name": "Python 3"
    },
    "language_info": {
      "name": "python"
    },
    "accelerator": "GPU"
  },
  "cells": [
    {
      "cell_type": "code",
      "execution_count": 1,
      "metadata": {
        "colab": {
          "base_uri": "https://localhost:8080/"
        },
        "id": "Bf-L7rhUvRk5",
        "outputId": "3b4b9692-fc2c-48be-ae6f-e808e275bdc2"
      },
      "outputs": [
        {
          "output_type": "stream",
          "name": "stdout",
          "text": [
            "fatal: destination path 'NetworksTimeSeries' already exists and is not an empty directory.\n"
          ]
        }
      ],
      "source": [
        "!git clone https://github.com/bartsvoboda/NetworksTimeSeries.git"
      ]
    },
    {
      "cell_type": "markdown",
      "source": [
        "# Nowa sekcja"
      ],
      "metadata": {
        "id": "p8M5Hvod2yHC"
      }
    },
    {
      "cell_type": "code",
      "source": [
        "import numpy as np\n",
        "import pandas as pd "
      ],
      "metadata": {
        "id": "0JPfdoEDwJUu"
      },
      "execution_count": 2,
      "outputs": []
    },
    {
      "cell_type": "code",
      "source": [
        "data = np.load(\"/content/NetworksTimeSeries/datasets/dataset_5_12.npy\")"
      ],
      "metadata": {
        "id": "k0WUBhpDvy-L"
      },
      "execution_count": 3,
      "outputs": []
    },
    {
      "cell_type": "code",
      "source": [
        "time = np.arange(0, 20000)\n",
        "time"
      ],
      "metadata": {
        "colab": {
          "base_uri": "https://localhost:8080/"
        },
        "id": "SJ_pX0gp3TP6",
        "outputId": "3b4f213b-b6c0-4d2d-c243-03063f5c95b0"
      },
      "execution_count": 4,
      "outputs": [
        {
          "output_type": "execute_result",
          "data": {
            "text/plain": [
              "array([    0,     1,     2, ..., 19997, 19998, 19999])"
            ]
          },
          "metadata": {},
          "execution_count": 4
        }
      ]
    },
    {
      "cell_type": "code",
      "source": [
        "df = pd.DataFrame(dict(traffic = data), index=time, columns = [\"traffic\"])\n",
        "df.head()"
      ],
      "metadata": {
        "colab": {
          "base_uri": "https://localhost:8080/",
          "height": 206
        },
        "id": "ojMZnJZD3fnV",
        "outputId": "1afafdd3-97c5-427d-85c0-7730d77c22bc"
      },
      "execution_count": 5,
      "outputs": [
        {
          "output_type": "execute_result",
          "data": {
            "text/plain": [
              "   traffic\n",
              "0  177.365\n",
              "1  177.298\n",
              "2  177.230\n",
              "3  177.162\n",
              "4  177.092"
            ],
            "text/html": [
              "\n",
              "  <div id=\"df-56801074-c560-420c-96e9-c2a1c6d5be37\">\n",
              "    <div class=\"colab-df-container\">\n",
              "      <div>\n",
              "<style scoped>\n",
              "    .dataframe tbody tr th:only-of-type {\n",
              "        vertical-align: middle;\n",
              "    }\n",
              "\n",
              "    .dataframe tbody tr th {\n",
              "        vertical-align: top;\n",
              "    }\n",
              "\n",
              "    .dataframe thead th {\n",
              "        text-align: right;\n",
              "    }\n",
              "</style>\n",
              "<table border=\"1\" class=\"dataframe\">\n",
              "  <thead>\n",
              "    <tr style=\"text-align: right;\">\n",
              "      <th></th>\n",
              "      <th>traffic</th>\n",
              "    </tr>\n",
              "  </thead>\n",
              "  <tbody>\n",
              "    <tr>\n",
              "      <th>0</th>\n",
              "      <td>177.365</td>\n",
              "    </tr>\n",
              "    <tr>\n",
              "      <th>1</th>\n",
              "      <td>177.298</td>\n",
              "    </tr>\n",
              "    <tr>\n",
              "      <th>2</th>\n",
              "      <td>177.230</td>\n",
              "    </tr>\n",
              "    <tr>\n",
              "      <th>3</th>\n",
              "      <td>177.162</td>\n",
              "    </tr>\n",
              "    <tr>\n",
              "      <th>4</th>\n",
              "      <td>177.092</td>\n",
              "    </tr>\n",
              "  </tbody>\n",
              "</table>\n",
              "</div>\n",
              "      <button class=\"colab-df-convert\" onclick=\"convertToInteractive('df-56801074-c560-420c-96e9-c2a1c6d5be37')\"\n",
              "              title=\"Convert this dataframe to an interactive table.\"\n",
              "              style=\"display:none;\">\n",
              "        \n",
              "  <svg xmlns=\"http://www.w3.org/2000/svg\" height=\"24px\"viewBox=\"0 0 24 24\"\n",
              "       width=\"24px\">\n",
              "    <path d=\"M0 0h24v24H0V0z\" fill=\"none\"/>\n",
              "    <path d=\"M18.56 5.44l.94 2.06.94-2.06 2.06-.94-2.06-.94-.94-2.06-.94 2.06-2.06.94zm-11 1L8.5 8.5l.94-2.06 2.06-.94-2.06-.94L8.5 2.5l-.94 2.06-2.06.94zm10 10l.94 2.06.94-2.06 2.06-.94-2.06-.94-.94-2.06-.94 2.06-2.06.94z\"/><path d=\"M17.41 7.96l-1.37-1.37c-.4-.4-.92-.59-1.43-.59-.52 0-1.04.2-1.43.59L10.3 9.45l-7.72 7.72c-.78.78-.78 2.05 0 2.83L4 21.41c.39.39.9.59 1.41.59.51 0 1.02-.2 1.41-.59l7.78-7.78 2.81-2.81c.8-.78.8-2.07 0-2.86zM5.41 20L4 18.59l7.72-7.72 1.47 1.35L5.41 20z\"/>\n",
              "  </svg>\n",
              "      </button>\n",
              "      \n",
              "  <style>\n",
              "    .colab-df-container {\n",
              "      display:flex;\n",
              "      flex-wrap:wrap;\n",
              "      gap: 12px;\n",
              "    }\n",
              "\n",
              "    .colab-df-convert {\n",
              "      background-color: #E8F0FE;\n",
              "      border: none;\n",
              "      border-radius: 50%;\n",
              "      cursor: pointer;\n",
              "      display: none;\n",
              "      fill: #1967D2;\n",
              "      height: 32px;\n",
              "      padding: 0 0 0 0;\n",
              "      width: 32px;\n",
              "    }\n",
              "\n",
              "    .colab-df-convert:hover {\n",
              "      background-color: #E2EBFA;\n",
              "      box-shadow: 0px 1px 2px rgba(60, 64, 67, 0.3), 0px 1px 3px 1px rgba(60, 64, 67, 0.15);\n",
              "      fill: #174EA6;\n",
              "    }\n",
              "\n",
              "    [theme=dark] .colab-df-convert {\n",
              "      background-color: #3B4455;\n",
              "      fill: #D2E3FC;\n",
              "    }\n",
              "\n",
              "    [theme=dark] .colab-df-convert:hover {\n",
              "      background-color: #434B5C;\n",
              "      box-shadow: 0px 1px 3px 1px rgba(0, 0, 0, 0.15);\n",
              "      filter: drop-shadow(0px 1px 2px rgba(0, 0, 0, 0.3));\n",
              "      fill: #FFFFFF;\n",
              "    }\n",
              "  </style>\n",
              "\n",
              "      <script>\n",
              "        const buttonEl =\n",
              "          document.querySelector('#df-56801074-c560-420c-96e9-c2a1c6d5be37 button.colab-df-convert');\n",
              "        buttonEl.style.display =\n",
              "          google.colab.kernel.accessAllowed ? 'block' : 'none';\n",
              "\n",
              "        async function convertToInteractive(key) {\n",
              "          const element = document.querySelector('#df-56801074-c560-420c-96e9-c2a1c6d5be37');\n",
              "          const dataTable =\n",
              "            await google.colab.kernel.invokeFunction('convertToInteractive',\n",
              "                                                     [key], {});\n",
              "          if (!dataTable) return;\n",
              "\n",
              "          const docLinkHtml = 'Like what you see? Visit the ' +\n",
              "            '<a target=\"_blank\" href=https://colab.research.google.com/notebooks/data_table.ipynb>data table notebook</a>'\n",
              "            + ' to learn more about interactive tables.';\n",
              "          element.innerHTML = '';\n",
              "          dataTable['output_type'] = 'display_data';\n",
              "          await google.colab.output.renderOutput(dataTable, element);\n",
              "          const docLink = document.createElement('div');\n",
              "          docLink.innerHTML = docLinkHtml;\n",
              "          element.appendChild(docLink);\n",
              "        }\n",
              "      </script>\n",
              "    </div>\n",
              "  </div>\n",
              "  "
            ]
          },
          "metadata": {},
          "execution_count": 5
        }
      ]
    },
    {
      "cell_type": "code",
      "source": [
        "train_size = int(len(df) * 0.7)\n",
        "test_size = len(df) - train_size\n",
        "train, test = df.iloc[0:train_size], df.iloc[train_size:len(df)]\n",
        "print(len(train), len(test))"
      ],
      "metadata": {
        "colab": {
          "base_uri": "https://localhost:8080/"
        },
        "id": "uYKFBqP-3-bb",
        "outputId": "54f06608-74c8-46b0-96f3-b9cb9fe7221a"
      },
      "execution_count": 6,
      "outputs": [
        {
          "output_type": "stream",
          "name": "stdout",
          "text": [
            "14000 6000\n"
          ]
        }
      ]
    },
    {
      "cell_type": "code",
      "source": [
        "def create_dataset(X, y, time_steps=1):\n",
        "    Xs, ys = [], []\n",
        "    for i in range(len(X) - time_steps):\n",
        "        v = X.iloc[i:(i + time_steps)].values\n",
        "        Xs.append(v)        \n",
        "        ys.append(y.iloc[i + time_steps])\n",
        "    return np.array(Xs), np.array(ys)"
      ],
      "metadata": {
        "id": "2TKImxrx4jbM"
      },
      "execution_count": 7,
      "outputs": []
    },
    {
      "cell_type": "code",
      "source": [
        "time_steps = 10\n",
        "\n",
        "X_train, y_train = create_dataset(train, train.traffic, time_steps)\n",
        "X_test, y_test = create_dataset(test, test.traffic, time_steps)\n",
        "\n",
        "print(X_train.shape, y_train.shape)"
      ],
      "metadata": {
        "colab": {
          "base_uri": "https://localhost:8080/"
        },
        "id": "gafEOAve4q6m",
        "outputId": "6e8ba4cc-ae96-49fb-bba7-3bf89cb7236f"
      },
      "execution_count": 8,
      "outputs": [
        {
          "output_type": "stream",
          "name": "stdout",
          "text": [
            "(13990, 10, 1) (13990,)\n"
          ]
        }
      ]
    },
    {
      "cell_type": "code",
      "source": [
        "X_train[0]"
      ],
      "metadata": {
        "colab": {
          "base_uri": "https://localhost:8080/"
        },
        "id": "gOiNIAw05Vde",
        "outputId": "b24fb3e8-079d-4720-bdca-d10ae4a993c2"
      },
      "execution_count": 9,
      "outputs": [
        {
          "output_type": "execute_result",
          "data": {
            "text/plain": [
              "array([[177.365],\n",
              "       [177.298],\n",
              "       [177.23 ],\n",
              "       [177.162],\n",
              "       [177.092],\n",
              "       [177.021],\n",
              "       [176.95 ],\n",
              "       [176.878],\n",
              "       [176.804],\n",
              "       [176.73 ]])"
            ]
          },
          "metadata": {},
          "execution_count": 9
        }
      ]
    },
    {
      "cell_type": "code",
      "source": [
        "X_train[1]"
      ],
      "metadata": {
        "colab": {
          "base_uri": "https://localhost:8080/"
        },
        "id": "zMKRsVID5qgZ",
        "outputId": "ef9e0f71-1839-476a-a6d5-42fe464999bd"
      },
      "execution_count": 10,
      "outputs": [
        {
          "output_type": "execute_result",
          "data": {
            "text/plain": [
              "array([[177.298],\n",
              "       [177.23 ],\n",
              "       [177.162],\n",
              "       [177.092],\n",
              "       [177.021],\n",
              "       [176.95 ],\n",
              "       [176.878],\n",
              "       [176.804],\n",
              "       [176.73 ],\n",
              "       [176.655]])"
            ]
          },
          "metadata": {},
          "execution_count": 10
        }
      ]
    },
    {
      "cell_type": "code",
      "source": [
        "y_train[0]"
      ],
      "metadata": {
        "colab": {
          "base_uri": "https://localhost:8080/"
        },
        "id": "R5hAHLrV5eHa",
        "outputId": "55c8bb1e-71b7-48cc-886a-c4e6bafa7136"
      },
      "execution_count": 11,
      "outputs": [
        {
          "output_type": "execute_result",
          "data": {
            "text/plain": [
              "176.655"
            ]
          },
          "metadata": {},
          "execution_count": 11
        }
      ]
    },
    {
      "cell_type": "markdown",
      "source": [
        "### LSTM"
      ],
      "metadata": {
        "id": "iee4u5NywfxO"
      }
    },
    {
      "cell_type": "code",
      "source": [
        "import tensorflow as tf\n",
        "from tensorflow import keras "
      ],
      "metadata": {
        "id": "da0Qwc2kzhDp"
      },
      "execution_count": 12,
      "outputs": []
    },
    {
      "cell_type": "code",
      "source": [
        "tf.random.set_seed(42)\n",
        "\n",
        "model = keras.Sequential()\n",
        "model.add(keras.layers.LSTM(128, input_shape=(X_train.shape[1], X_train.shape[2])))\n",
        "model.add(keras.layers.Dense(1))\n",
        "\n",
        "model.compile(loss='mae',\n",
        "              optimizer=keras.optimizers.Adam())"
      ],
      "metadata": {
        "id": "m5sO4Sf46BSy"
      },
      "execution_count": 13,
      "outputs": []
    },
    {
      "cell_type": "code",
      "source": [
        "history = model.fit(X_train,\n",
        "                    y_train,\n",
        "                    epochs=100,\n",
        "                    batch_size=128,\n",
        "                    validation_data=(X_test, y_test),\n",
        "                    verbose=1,\n",
        "                    shuffle=False)"
      ],
      "metadata": {
        "colab": {
          "base_uri": "https://localhost:8080/"
        },
        "id": "eJTuWVhd6699",
        "outputId": "b4a3f727-1544-4633-e961-3d4997f07a3f"
      },
      "execution_count": 14,
      "outputs": [
        {
          "output_type": "stream",
          "name": "stdout",
          "text": [
            "Epoch 1/100\n",
            "110/110 [==============================] - 5s 10ms/step - loss: 84.6542 - val_loss: 76.2077\n",
            "Epoch 2/100\n",
            "110/110 [==============================] - 1s 5ms/step - loss: 71.8005 - val_loss: 66.9920\n",
            "Epoch 3/100\n",
            "110/110 [==============================] - 1s 6ms/step - loss: 63.8393 - val_loss: 59.5666\n",
            "Epoch 4/100\n",
            "110/110 [==============================] - 1s 5ms/step - loss: 56.9982 - val_loss: 53.8352\n",
            "Epoch 5/100\n",
            "110/110 [==============================] - 1s 6ms/step - loss: 51.3227 - val_loss: 47.9775\n",
            "Epoch 6/100\n",
            "110/110 [==============================] - 1s 5ms/step - loss: 45.7928 - val_loss: 42.7452\n",
            "Epoch 7/100\n",
            "110/110 [==============================] - 1s 5ms/step - loss: 41.1266 - val_loss: 38.5628\n",
            "Epoch 8/100\n",
            "110/110 [==============================] - 1s 6ms/step - loss: 37.2859 - val_loss: 35.2217\n",
            "Epoch 9/100\n",
            "110/110 [==============================] - 1s 5ms/step - loss: 33.9552 - val_loss: 31.4597\n",
            "Epoch 10/100\n",
            "110/110 [==============================] - 1s 6ms/step - loss: 30.1307 - val_loss: 27.4514\n",
            "Epoch 11/100\n",
            "110/110 [==============================] - 1s 6ms/step - loss: 26.4885 - val_loss: 25.0243\n",
            "Epoch 12/100\n",
            "110/110 [==============================] - 1s 5ms/step - loss: 23.4523 - val_loss: 22.8335\n",
            "Epoch 13/100\n",
            "110/110 [==============================] - 1s 6ms/step - loss: 20.7970 - val_loss: 19.7021\n",
            "Epoch 14/100\n",
            "110/110 [==============================] - 1s 5ms/step - loss: 18.2292 - val_loss: 16.9429\n",
            "Epoch 15/100\n",
            "110/110 [==============================] - 1s 5ms/step - loss: 15.7301 - val_loss: 14.7034\n",
            "Epoch 16/100\n",
            "110/110 [==============================] - 1s 5ms/step - loss: 13.9016 - val_loss: 12.0645\n",
            "Epoch 17/100\n",
            "110/110 [==============================] - 1s 5ms/step - loss: 11.7855 - val_loss: 11.2903\n",
            "Epoch 18/100\n",
            "110/110 [==============================] - 1s 5ms/step - loss: 10.2454 - val_loss: 9.9160\n",
            "Epoch 19/100\n",
            "110/110 [==============================] - 1s 5ms/step - loss: 8.8837 - val_loss: 9.5858\n",
            "Epoch 20/100\n",
            "110/110 [==============================] - 1s 8ms/step - loss: 7.8677 - val_loss: 7.7556\n",
            "Epoch 21/100\n",
            "110/110 [==============================] - 1s 10ms/step - loss: 6.6097 - val_loss: 5.4708\n",
            "Epoch 22/100\n",
            "110/110 [==============================] - 1s 10ms/step - loss: 5.5708 - val_loss: 4.3382\n",
            "Epoch 23/100\n",
            "110/110 [==============================] - 1s 9ms/step - loss: 4.6088 - val_loss: 4.3941\n",
            "Epoch 24/100\n",
            "110/110 [==============================] - 1s 11ms/step - loss: 4.5341 - val_loss: 4.6265\n",
            "Epoch 25/100\n",
            "110/110 [==============================] - 1s 9ms/step - loss: 3.9415 - val_loss: 2.9228\n",
            "Epoch 26/100\n",
            "110/110 [==============================] - 1s 10ms/step - loss: 4.0385 - val_loss: 2.2963\n",
            "Epoch 27/100\n",
            "110/110 [==============================] - 1s 8ms/step - loss: 3.8256 - val_loss: 2.4414\n",
            "Epoch 28/100\n",
            "110/110 [==============================] - 1s 10ms/step - loss: 3.1826 - val_loss: 2.5697\n",
            "Epoch 29/100\n",
            "110/110 [==============================] - 1s 9ms/step - loss: 2.7087 - val_loss: 1.5828\n",
            "Epoch 30/100\n",
            "110/110 [==============================] - 1s 8ms/step - loss: 3.4313 - val_loss: 3.0527\n",
            "Epoch 31/100\n",
            "110/110 [==============================] - 1s 9ms/step - loss: 3.3440 - val_loss: 2.9984\n",
            "Epoch 32/100\n",
            "110/110 [==============================] - 1s 9ms/step - loss: 2.7733 - val_loss: 2.1078\n",
            "Epoch 33/100\n",
            "110/110 [==============================] - 1s 10ms/step - loss: 3.3667 - val_loss: 2.2191\n",
            "Epoch 34/100\n",
            "110/110 [==============================] - 1s 9ms/step - loss: 3.2032 - val_loss: 1.9596\n",
            "Epoch 35/100\n",
            "110/110 [==============================] - 1s 9ms/step - loss: 2.6451 - val_loss: 1.3622\n",
            "Epoch 36/100\n",
            "110/110 [==============================] - 1s 10ms/step - loss: 2.4771 - val_loss: 2.1179\n",
            "Epoch 37/100\n",
            "110/110 [==============================] - 1s 6ms/step - loss: 2.5070 - val_loss: 1.2626\n",
            "Epoch 38/100\n",
            "110/110 [==============================] - 1s 5ms/step - loss: 2.5472 - val_loss: 0.8993\n",
            "Epoch 39/100\n",
            "110/110 [==============================] - 1s 5ms/step - loss: 1.6885 - val_loss: 2.6794\n",
            "Epoch 40/100\n",
            "110/110 [==============================] - 1s 5ms/step - loss: 1.4428 - val_loss: 1.3722\n",
            "Epoch 41/100\n",
            "110/110 [==============================] - 1s 6ms/step - loss: 1.7315 - val_loss: 1.5104\n",
            "Epoch 42/100\n",
            "110/110 [==============================] - 1s 6ms/step - loss: 1.7299 - val_loss: 0.9886\n",
            "Epoch 43/100\n",
            "110/110 [==============================] - 1s 5ms/step - loss: 1.9053 - val_loss: 2.2425\n",
            "Epoch 44/100\n",
            "110/110 [==============================] - 1s 6ms/step - loss: 1.6876 - val_loss: 0.7347\n",
            "Epoch 45/100\n",
            "110/110 [==============================] - 1s 6ms/step - loss: 1.9275 - val_loss: 3.1399\n",
            "Epoch 46/100\n",
            "110/110 [==============================] - 1s 5ms/step - loss: 1.6657 - val_loss: 0.4722\n",
            "Epoch 47/100\n",
            "110/110 [==============================] - 1s 6ms/step - loss: 1.7927 - val_loss: 1.8377\n",
            "Epoch 48/100\n",
            "110/110 [==============================] - 1s 5ms/step - loss: 1.3159 - val_loss: 1.4375\n",
            "Epoch 49/100\n",
            "110/110 [==============================] - 1s 5ms/step - loss: 1.1959 - val_loss: 0.9282\n",
            "Epoch 50/100\n",
            "110/110 [==============================] - 1s 5ms/step - loss: 1.6368 - val_loss: 2.5739\n",
            "Epoch 51/100\n",
            "110/110 [==============================] - 1s 5ms/step - loss: 1.9140 - val_loss: 2.1545\n",
            "Epoch 52/100\n",
            "110/110 [==============================] - 1s 5ms/step - loss: 1.3946 - val_loss: 0.5719\n",
            "Epoch 53/100\n",
            "110/110 [==============================] - 1s 6ms/step - loss: 1.8023 - val_loss: 1.0559\n",
            "Epoch 54/100\n",
            "110/110 [==============================] - 1s 5ms/step - loss: 1.2954 - val_loss: 1.5999\n",
            "Epoch 55/100\n",
            "110/110 [==============================] - 1s 5ms/step - loss: 1.7453 - val_loss: 0.5446\n",
            "Epoch 56/100\n",
            "110/110 [==============================] - 1s 5ms/step - loss: 2.1270 - val_loss: 0.7848\n",
            "Epoch 57/100\n",
            "110/110 [==============================] - 1s 5ms/step - loss: 1.3621 - val_loss: 1.0644\n",
            "Epoch 58/100\n",
            "110/110 [==============================] - 1s 6ms/step - loss: 1.3487 - val_loss: 1.1213\n",
            "Epoch 59/100\n",
            "110/110 [==============================] - 1s 5ms/step - loss: 1.6637 - val_loss: 0.9225\n",
            "Epoch 60/100\n",
            "110/110 [==============================] - 1s 5ms/step - loss: 1.2490 - val_loss: 2.7422\n",
            "Epoch 61/100\n",
            "110/110 [==============================] - 1s 5ms/step - loss: 1.4761 - val_loss: 2.0196\n",
            "Epoch 62/100\n",
            "110/110 [==============================] - 1s 5ms/step - loss: 1.0457 - val_loss: 1.2214\n",
            "Epoch 63/100\n",
            "110/110 [==============================] - 1s 5ms/step - loss: 1.8672 - val_loss: 0.6800\n",
            "Epoch 64/100\n",
            "110/110 [==============================] - 1s 6ms/step - loss: 1.3814 - val_loss: 1.5871\n",
            "Epoch 65/100\n",
            "110/110 [==============================] - 1s 6ms/step - loss: 1.2650 - val_loss: 0.6291\n",
            "Epoch 66/100\n",
            "110/110 [==============================] - 1s 6ms/step - loss: 0.9552 - val_loss: 1.5008\n",
            "Epoch 67/100\n",
            "110/110 [==============================] - 1s 5ms/step - loss: 1.3168 - val_loss: 0.3888\n",
            "Epoch 68/100\n",
            "110/110 [==============================] - 1s 5ms/step - loss: 0.8096 - val_loss: 0.6506\n",
            "Epoch 69/100\n",
            "110/110 [==============================] - 1s 5ms/step - loss: 1.1431 - val_loss: 0.6330\n",
            "Epoch 70/100\n",
            "110/110 [==============================] - 1s 5ms/step - loss: 1.3009 - val_loss: 1.7259\n",
            "Epoch 71/100\n",
            "110/110 [==============================] - 1s 5ms/step - loss: 0.9105 - val_loss: 0.7601\n",
            "Epoch 72/100\n",
            "110/110 [==============================] - 1s 6ms/step - loss: 1.8207 - val_loss: 1.4573\n",
            "Epoch 73/100\n",
            "110/110 [==============================] - 1s 5ms/step - loss: 1.2355 - val_loss: 0.7629\n",
            "Epoch 74/100\n",
            "110/110 [==============================] - 1s 6ms/step - loss: 1.2511 - val_loss: 1.2748\n",
            "Epoch 75/100\n",
            "110/110 [==============================] - 1s 5ms/step - loss: 1.9569 - val_loss: 1.0301\n",
            "Epoch 76/100\n",
            "110/110 [==============================] - 1s 5ms/step - loss: 1.1007 - val_loss: 0.6246\n",
            "Epoch 77/100\n",
            "110/110 [==============================] - 1s 5ms/step - loss: 1.3066 - val_loss: 1.3203\n",
            "Epoch 78/100\n",
            "110/110 [==============================] - 1s 5ms/step - loss: 1.3253 - val_loss: 0.4069\n",
            "Epoch 79/100\n",
            "110/110 [==============================] - 1s 6ms/step - loss: 0.8216 - val_loss: 0.6736\n",
            "Epoch 80/100\n",
            "110/110 [==============================] - 1s 5ms/step - loss: 0.9528 - val_loss: 0.3174\n",
            "Epoch 81/100\n",
            "110/110 [==============================] - 1s 5ms/step - loss: 1.4278 - val_loss: 1.2039\n",
            "Epoch 82/100\n",
            "110/110 [==============================] - 1s 6ms/step - loss: 1.1665 - val_loss: 1.0498\n",
            "Epoch 83/100\n",
            "110/110 [==============================] - 1s 6ms/step - loss: 1.1152 - val_loss: 1.4748\n",
            "Epoch 84/100\n",
            "110/110 [==============================] - 1s 6ms/step - loss: 1.3535 - val_loss: 1.1851\n",
            "Epoch 85/100\n",
            "110/110 [==============================] - 1s 5ms/step - loss: 1.1195 - val_loss: 1.2538\n",
            "Epoch 86/100\n",
            "110/110 [==============================] - 1s 5ms/step - loss: 0.7109 - val_loss: 0.2273\n",
            "Epoch 87/100\n",
            "110/110 [==============================] - 1s 6ms/step - loss: 0.6999 - val_loss: 1.7738\n",
            "Epoch 88/100\n",
            "110/110 [==============================] - 1s 6ms/step - loss: 1.3029 - val_loss: 0.1769\n",
            "Epoch 89/100\n",
            "110/110 [==============================] - 1s 5ms/step - loss: 1.3104 - val_loss: 1.7339\n",
            "Epoch 90/100\n",
            "110/110 [==============================] - 1s 5ms/step - loss: 1.1777 - val_loss: 0.3318\n",
            "Epoch 91/100\n",
            "110/110 [==============================] - 1s 5ms/step - loss: 0.8950 - val_loss: 0.9338\n",
            "Epoch 92/100\n",
            "110/110 [==============================] - 1s 5ms/step - loss: 0.9914 - val_loss: 1.5243\n",
            "Epoch 93/100\n",
            "110/110 [==============================] - 1s 5ms/step - loss: 1.1358 - val_loss: 1.5490\n",
            "Epoch 94/100\n",
            "110/110 [==============================] - 1s 9ms/step - loss: 2.5811 - val_loss: 0.7622\n",
            "Epoch 95/100\n",
            "110/110 [==============================] - 1s 7ms/step - loss: 1.0948 - val_loss: 0.6736\n",
            "Epoch 96/100\n",
            "110/110 [==============================] - 1s 7ms/step - loss: 1.1999 - val_loss: 0.6652\n",
            "Epoch 97/100\n",
            "110/110 [==============================] - 1s 5ms/step - loss: 1.3202 - val_loss: 1.3263\n",
            "Epoch 98/100\n",
            "110/110 [==============================] - 1s 5ms/step - loss: 1.4270 - val_loss: 0.3798\n",
            "Epoch 99/100\n",
            "110/110 [==============================] - 1s 6ms/step - loss: 1.1383 - val_loss: 1.5298\n",
            "Epoch 100/100\n",
            "110/110 [==============================] - 1s 6ms/step - loss: 1.1032 - val_loss: 2.2308\n"
          ]
        }
      ]
    },
    {
      "cell_type": "code",
      "source": [
        "import matplotlib.pyplot as plt\n",
        "\n",
        "plt.plot(history.history['loss'], label='train')\n",
        "plt.plot(history.history['val_loss'], label='test')\n",
        "plt.legend();"
      ],
      "metadata": {
        "colab": {
          "base_uri": "https://localhost:8080/",
          "height": 265
        },
        "id": "wJ3T4OV376J4",
        "outputId": "f47e2de2-c087-4b85-9b28-5cbbfd5593c2"
      },
      "execution_count": 15,
      "outputs": [
        {
          "output_type": "display_data",
          "data": {
            "text/plain": [
              "<Figure size 432x288 with 1 Axes>"
            ],
            "image/png": "[encoded data removed]"
          },
          "metadata": {
            "needs_background": "light"
          }
        }
      ]
    },
    {
      "cell_type": "code",
      "source": [
        "# history_2 = model.fit(X_train,\n",
        "#                     y_train,\n",
        "#                     epochs=30,\n",
        "#                     batch_size=16,\n",
        "#                     validation_split=0.1,\n",
        "#                     verbose=1,\n",
        "#                     shuffle=False)"
      ],
      "metadata": {
        "id": "BXaPKTsz8PFY"
      },
      "execution_count": 16,
      "outputs": []
    },
    {
      "cell_type": "code",
      "source": [
        "y_pred = model.predict(X_test)"
      ],
      "metadata": {
        "id": "dFB1TTxg8ehx"
      },
      "execution_count": 17,
      "outputs": []
    },
    {
      "cell_type": "code",
      "source": [
        "plt.figure(figsize=(10, 7))\n",
        "plt.plot(np.arange(0, len(y_train)), y_train, 'b', label=\"history\")\n",
        "plt.plot(np.arange(len(y_train), len(y_train) + len(y_test)), y_test, marker=\".\", label=\"True labels\")\n",
        "plt.plot(np.arange(len(y_train), len(y_train) + len(y_test)), y_pred, 'r', label=\"Predictions\")\n",
        "plt.ylabel(\"Traffic\")\n",
        "plt.xlabel(\"Time Stamp\")\n",
        "plt.legend()\n",
        "plt.show();"
      ],
      "metadata": {
        "colab": {
          "base_uri": "https://localhost:8080/",
          "height": 442
        },
        "id": "D5ijN88I8oDb",
        "outputId": "9f498212-aff9-4ef7-86a5-0b5086208935"
      },
      "execution_count": 18,
      "outputs": [
        {
          "output_type": "display_data",
          "data": {
            "text/plain": [
              "<Figure size 720x504 with 1 Axes>"
            ],
            "image/png": "[encoded data removed]"
          },
          "metadata": {
            "needs_background": "light"
          }
        }
      ]
    },
    {
      "cell_type": "code",
      "source": [
        "from sklearn.metrics import mean_absolute_percentage_error\n",
        "mean_absolute_percentage_error(y_true=y_test, y_pred=y_pred)"
      ],
      "metadata": {
        "colab": {
          "base_uri": "https://localhost:8080/"
        },
        "id": "1MecqQLRDhAJ",
        "outputId": "4d8b2fb5-2d08-44a7-95fa-cbe4451d0bee"
      },
      "execution_count": 19,
      "outputs": [
        {
          "output_type": "execute_result",
          "data": {
            "text/plain": [
              "1.3383960828265344"
            ]
          },
          "metadata": {},
          "execution_count": 19
        }
      ]
    },
    {
      "cell_type": "markdown",
      "source": [
        "## Polynomial"
      ],
      "metadata": {
        "id": "bacHPnNXELdL"
      }
    },
    {
      "cell_type": "code",
      "source": [
        "from sklearn.preprocessing import PolynomialFeatures\n",
        "from sklearn.pipeline import make_pipeline\n",
        "from sklearn.linear_model import LinearRegression\n",
        "\n",
        "degree=2\n",
        "X_train = tf.squeeze(X_train)\n",
        "X_test = tf.squeeze(X_test)\n",
        "polyreg=make_pipeline(PolynomialFeatures(degree),LinearRegression())\n",
        "polyreg.fit(X_train,y_train)"
      ],
      "metadata": {
        "id": "CMfch5XAEQMj",
        "colab": {
          "base_uri": "https://localhost:8080/"
        },
        "outputId": "e1efdeb4-f229-4ca9-c028-f91fcf28e9d6"
      },
      "execution_count": 24,
      "outputs": [
        {
          "output_type": "execute_result",
          "data": {
            "text/plain": [
              "Pipeline(steps=[('polynomialfeatures', PolynomialFeatures()),\n",
              "                ('linearregression', LinearRegression())])"
            ]
          },
          "metadata": {},
          "execution_count": 24
        }
      ]
    },
    {
      "cell_type": "code",
      "source": [
        "y_pred_pr = polyreg.predict(X_test)"
      ],
      "metadata": {
        "id": "EKBmeoD-Fmkd"
      },
      "execution_count": 25,
      "outputs": []
    },
    {
      "cell_type": "code",
      "source": [
        "plt.figure(figsize=(10, 7))\n",
        "plt.plot(np.arange(0, len(y_train)), y_train, 'b', label=\"history\")\n",
        "plt.plot(np.arange(len(y_train), len(y_train) + len(y_test)), y_test, marker=\".\", label=\"True labels\")\n",
        "plt.plot(np.arange(len(y_train), len(y_train) + len(y_test)), y_pred_pr, 'r', label=\"Predictions\")\n",
        "plt.ylabel(\"Traffic\")\n",
        "plt.xlabel(\"Time Stamp\")\n",
        "plt.legend()\n",
        "plt.show();"
      ],
      "metadata": {
        "colab": {
          "base_uri": "https://localhost:8080/",
          "height": 442
        },
        "id": "Dwn65QE9Gbek",
        "outputId": "2e97ae97-6904-42a8-d8b4-eeafccc7c2e5"
      },
      "execution_count": 26,
      "outputs": [
        {
          "output_type": "display_data",
          "data": {
            "text/plain": [
              "<Figure size 720x504 with 1 Axes>"
            ],
            "image/png": "[encoded data removed]"
          },
          "metadata": {
            "needs_background": "light"
          }
        }
      ]
    },
    {
      "cell_type": "code",
      "source": [
        "mean_absolute_percentage_error(y_true=y_test, y_pred=y_pred_pr)"
      ],
      "metadata": {
        "colab": {
          "base_uri": "https://localhost:8080/"
        },
        "id": "GzmRdf6SGnwN",
        "outputId": "80d5603c-bddd-4a6f-b506-b4b494c592e8"
      },
      "execution_count": 27,
      "outputs": [
        {
          "output_type": "execute_result",
          "data": {
            "text/plain": [
              "0.00026697201938270766"
            ]
          },
          "metadata": {},
          "execution_count": 27
        }
      ]
    },
    {
      "cell_type": "code",
      "source": [
        ""
      ],
      "metadata": {
        "id": "Sl_bGrzdIufT"
      },
      "execution_count": null,
      "outputs": []
    }
  ]
}